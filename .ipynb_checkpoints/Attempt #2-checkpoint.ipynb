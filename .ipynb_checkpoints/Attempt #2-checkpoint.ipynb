{
 "cells": [
  {
   "cell_type": "code",
   "execution_count": 1,
   "metadata": {
    "collapsed": true
   },
   "outputs": [],
   "source": [
    "import pandas as pd\n",
    "import numpy as np\n",
    "\n",
    "import time\n",
    "from sklearn.ensemble import RandomForestClassifier\n",
    "from sklearn.metrics import mean_absolute_error,accuracy_score,f1_score\n",
    "from sklearn.model_selection import cross_val_predict,cross_val_score\n",
    "from sklearn.metrics import mean_squared_error,log_loss\n",
    "from sklearn.multiclass import OneVsRestClassifier\n",
    "from sklearn.neighbors import KNeighborsClassifier"
   ]
  },
  {
   "cell_type": "code",
   "execution_count": 2,
   "metadata": {
    "collapsed": true
   },
   "outputs": [],
   "source": [
    "df_user_data_train = pd.read_csv(\"train/user_data.csv\")\n",
    "df_train_submission = pd.read_csv(\"train/train_submissions.csv\")\n",
    "df_problem_data_train = pd.read_csv(\"train/problem_data.csv\")\n",
    "df_sample_sub = pd.read_csv(\"sample_submissions_wbscxqU.csv\")\n",
    "df_test_sub = pd.read_csv(\"test_submissions_NeDLEvX.csv\")"
   ]
  },
  {
   "cell_type": "code",
   "execution_count": 3,
   "metadata": {},
   "outputs": [],
   "source": [
    "df_problem_data_train.drop(['tags'],axis=1,inplace=True)\n",
    "df_problem_data_train.points.fillna(0,inplace=True)\n",
    "df_problem_data_train.level_type.fillna('N',inplace=True)\n",
    "df_user_data_train.country.fillna('Missing',inplace=True)\n",
    "\n",
    "def postive_only(x):\n",
    "    if(x<0):\n",
    "        return(-1*x)\n",
    "    else:\n",
    "        return(x)\n",
    "    \n",
    "df_user_data_train['submission_count']=df_user_data_train['submission_count'].map(lambda x: postive_only(x))\n",
    "df_user_data_train['problem_solved']=df_user_data_train['problem_solved'].map(lambda x: postive_only(x))\n",
    "df_user_data_train['contribution']=df_user_data_train['contribution'].map(lambda x: postive_only(x))\n",
    "df_user_data_train['follower_count']=df_user_data_train['follower_count'].map(lambda x: postive_only(x))\n",
    "df_user_data_train['last_online_time_seconds']=df_user_data_train['last_online_time_seconds'].map(lambda x: postive_only(x))\n",
    "df_user_data_train['max_rating']=df_user_data_train['max_rating'].map(lambda x: postive_only(x))\n",
    "df_user_data_train['registration_time_seconds']=df_user_data_train['registration_time_seconds'].map(lambda x: postive_only(x))\n",
    "\n",
    "from sklearn.preprocessing import LabelEncoder\n",
    "lb = LabelEncoder()\n",
    "df_user_data_train['country'] = lb.fit_transform(df_user_data_train['country'])\n",
    "df_user_data_train['rank'] = lb.fit_transform(df_user_data_train['rank'])\n",
    "df_problem_data_train['level_type'] = lb.fit_transform(df_problem_data_train['level_type'])"
   ]
  },
  {
   "cell_type": "code",
   "execution_count": 4,
   "metadata": {
    "collapsed": true
   },
   "outputs": [],
   "source": [
    "df_train  = pd.merge(df_train_submission,df_user_data_train, how='left', on='user_id')\n",
    "df_train = pd.merge(df_train,df_problem_data_train,how='left',on='problem_id')\n",
    "\n",
    "df_test  = pd.merge(df_test_sub,df_user_data_train, how='left', on='user_id')\n",
    "df_test = pd.merge(df_test,df_problem_data_train,how='left',on='problem_id')\n",
    "\n",
    "X = df_train.drop(['attempts_range','user_id','problem_id'],axis=1).values\n",
    "y = df_train.attempts_range.values\n",
    "\n",
    "X_test = df_test.drop(['ID','user_id','problem_id'],axis=1).values"
   ]
  },
  {
   "cell_type": "code",
   "execution_count": 5,
   "metadata": {
    "collapsed": true
   },
   "outputs": [],
   "source": [
    "clf_KN = KNeighborsClassifier()\n",
    "clf_KN.fit(X,y)\n",
    "y_pred = clf_KN.predict(X_test)"
   ]
  },
  {
   "cell_type": "code",
   "execution_count": 6,
   "metadata": {
    "collapsed": true
   },
   "outputs": [],
   "source": [
    "df_sample_sub['ID'] = df_test.ID\n",
    "df_sample_sub['attempts_range'] = y_pred\n",
    "df_sample_sub.to_csv(\"Knn_without_FE_clean.csv\",index=False)"
   ]
  },
  {
   "cell_type": "code",
   "execution_count": null,
   "metadata": {
    "collapsed": true
   },
   "outputs": [],
   "source": []
  }
 ],
 "metadata": {
  "kernelspec": {
   "display_name": "Python 2",
   "language": "python",
   "name": "python2"
  },
  "language_info": {
   "codemirror_mode": {
    "name": "ipython",
    "version": 2
   },
   "file_extension": ".py",
   "mimetype": "text/x-python",
   "name": "python",
   "nbconvert_exporter": "python",
   "pygments_lexer": "ipython2",
   "version": "2.7.13"
  }
 },
 "nbformat": 4,
 "nbformat_minor": 2
}
