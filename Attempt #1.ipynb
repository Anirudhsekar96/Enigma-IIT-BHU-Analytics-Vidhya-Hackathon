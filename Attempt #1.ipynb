{
 "cells": [
  {
   "cell_type": "code",
   "execution_count": 9,
   "metadata": {
    "collapsed": true
   },
   "outputs": [],
   "source": [
    "import pandas as pd\n",
    "import numpy as np\n",
    "\n",
    "import time\n",
    "from sklearn.ensemble import RandomForestClassifier\n",
    "from sklearn.metrics import mean_absolute_error,accuracy_score,f1_score\n",
    "from sklearn.model_selection import cross_val_predict,cross_val_score\n",
    "from sklearn.metrics import mean_squared_error,log_loss\n",
    "from sklearn.multiclass import OneVsRestClassifier\n",
    "from sklearn.neighbors import KNeighborsClassifier"
   ]
  },
  {
   "cell_type": "code",
   "execution_count": 10,
   "metadata": {
    "collapsed": true
   },
   "outputs": [],
   "source": [
    "df_user_data_train = pd.read_csv(\"train/user_data.csv\")\n",
    "df_train_submission = pd.read_csv(\"train/train_submissions.csv\")\n",
    "df_problem_data_train = pd.read_csv(\"train/problem_data.csv\")\n",
    "df_sample_sub = pd.read_csv(\"sample_submissions_wbscxqU.csv\")\n",
    "df_test_sub = pd.read_csv(\"test_submissions_NeDLEvX.csv\")"
   ]
  },
  {
   "cell_type": "code",
   "execution_count": 11,
   "metadata": {
    "collapsed": true
   },
   "outputs": [],
   "source": [
    "df_problem_data_train.drop(['tags'],axis=1,inplace=True)\n",
    "df_problem_data_train.points.fillna(0,inplace=True)\n",
    "df_problem_data_train.level_type.fillna('N',inplace=True)\n",
    "df_user_data_train.country.fillna('Missing',inplace=True)\n",
    "\n",
    "def postive_only(x):\n",
    "    if(x<0):\n",
    "        return(-1*x)\n",
    "    else:\n",
    "        return(x)\n",
    "    \n",
    "df_user_data_train['submission_count']=df_user_data_train['submission_count'].map(lambda x: postive_only(x))\n",
    "df_user_data_train['problem_solved']=df_user_data_train['problem_solved'].map(lambda x: postive_only(x))\n",
    "df_user_data_train['contribution']=df_user_data_train['contribution'].map(lambda x: postive_only(x))\n",
    "df_user_data_train['follower_count']=df_user_data_train['follower_count'].map(lambda x: postive_only(x))\n",
    "df_user_data_train['last_online_time_seconds']=df_user_data_train['last_online_time_seconds'].map(lambda x: postive_only(x))\n",
    "df_user_data_train['max_rating']=df_user_data_train['max_rating'].map(lambda x: postive_only(x))\n",
    "df_user_data_train['registration_time_seconds']=df_user_data_train['registration_time_seconds'].map(lambda x: postive_only(x))"
   ]
  },
  {
   "cell_type": "code",
   "execution_count": 12,
   "metadata": {
    "collapsed": true
   },
   "outputs": [],
   "source": [
    "df_train  = pd.merge(df_train_submission,df_user_data_train, how='left', on='user_id')\n",
    "df_train = pd.merge(df_train,df_problem_data_train,how='left',on='problem_id')"
   ]
  },
  {
   "cell_type": "code",
   "execution_count": 13,
   "metadata": {},
   "outputs": [],
   "source": [
    "from sklearn.preprocessing import LabelEncoder\n",
    "lb = LabelEncoder()\n",
    "df_train['country'] = lb.fit_transform(df_train['country'])\n",
    "df_train['rank'] = lb.fit_transform(df_train['rank'])\n",
    "df_train['level_type'] = lb.fit_transform(df_train['level_type'])"
   ]
  },
  {
   "cell_type": "code",
   "execution_count": 14,
   "metadata": {},
   "outputs": [],
   "source": [
    "X = df_train.drop(['attempts_range','user_id','problem_id'],axis=1).values\n",
    "y = df_train.attempts_range.values"
   ]
  },
  {
   "cell_type": "code",
   "execution_count": 15,
   "metadata": {},
   "outputs": [
    {
     "name": "stdout",
     "output_type": "stream",
     "text": [
      "Training data for next level Created\n",
      "--- 1.34192490578 seconds ---\n",
      "0.439461902206\n"
     ]
    }
   ],
   "source": [
    "start_time = time.time()\n",
    "\n",
    "clf_KN_L1 = KNeighborsClassifier()\n",
    "\n",
    "y_pred_KN_L1 = cross_val_predict(clf_KN_L1,X,y,cv=8,n_jobs=-1)\n",
    "print(\"Training data for next level Created\")\n",
    "\n",
    "print(\"--- %s seconds ---\" % (time.time() - start_time))\n",
    "print(f1_score(y,y_pred_KN_L1,average=\"weighted\"))"
   ]
  },
  {
   "cell_type": "code",
   "execution_count": 16,
   "metadata": {
    "collapsed": true
   },
   "outputs": [],
   "source": [
    "df_test  = pd.merge(df_test_sub,df_user_data_train, how='left', on='user_id')\n",
    "df_test = pd.merge(df_test,df_problem_data_train,how='left',on='problem_id')"
   ]
  },
  {
   "cell_type": "code",
   "execution_count": 17,
   "metadata": {},
   "outputs": [
    {
     "name": "stdout",
     "output_type": "stream",
     "text": [
      "<class 'pandas.core.frame.DataFrame'>\n",
      "Int64Index: 66555 entries, 0 to 66554\n",
      "Data columns (total 15 columns):\n",
      "ID                           66555 non-null object\n",
      "user_id                      66555 non-null object\n",
      "problem_id                   66555 non-null object\n",
      "submission_count             66555 non-null int64\n",
      "problem_solved               66555 non-null int64\n",
      "contribution                 66555 non-null int64\n",
      "country                      66555 non-null object\n",
      "follower_count               66555 non-null int64\n",
      "last_online_time_seconds     66555 non-null int64\n",
      "max_rating                   66555 non-null float64\n",
      "rating                       66555 non-null float64\n",
      "rank                         66555 non-null object\n",
      "registration_time_seconds    66555 non-null int64\n",
      "level_type                   66555 non-null object\n",
      "points                       66555 non-null float64\n",
      "dtypes: float64(3), int64(6), object(6)\n",
      "memory usage: 8.1+ MB\n"
     ]
    }
   ],
   "source": [
    "df_test.info()"
   ]
  },
  {
   "cell_type": "code",
   "execution_count": 18,
   "metadata": {
    "collapsed": true
   },
   "outputs": [],
   "source": [
    "from sklearn.preprocessing import LabelEncoder\n",
    "lb = LabelEncoder()\n",
    "df_test['country'] = lb.fit_transform(df_test['country'])\n",
    "df_test['rank'] = lb.fit_transform(df_test['rank'])\n",
    "df_test['level_type'] = lb.fit_transform(df_test['level_type'])"
   ]
  },
  {
   "cell_type": "code",
   "execution_count": 21,
   "metadata": {
    "collapsed": true
   },
   "outputs": [],
   "source": [
    "X_test = df_test.drop(['ID','user_id','problem_id'],axis=1).values"
   ]
  },
  {
   "cell_type": "code",
   "execution_count": 22,
   "metadata": {},
   "outputs": [],
   "source": [
    "clf_KN = KNeighborsClassifier()\n",
    "clf_KN.fit(X,y)\n",
    "y_pred = clf_KN.predict(X_test)"
   ]
  },
  {
   "cell_type": "code",
   "execution_count": 23,
   "metadata": {
    "collapsed": true
   },
   "outputs": [],
   "source": [
    "df_sample_sub['ID'] = df_test.ID"
   ]
  },
  {
   "cell_type": "code",
   "execution_count": 24,
   "metadata": {
    "collapsed": true
   },
   "outputs": [],
   "source": [
    "df_sample_sub['attempts_range'] = y_pred"
   ]
  },
  {
   "cell_type": "code",
   "execution_count": 26,
   "metadata": {},
   "outputs": [],
   "source": [
    "df_sample_sub.to_csv(\"Knn_without_FE.csv\",index=False)"
   ]
  },
  {
   "cell_type": "code",
   "execution_count": null,
   "metadata": {
    "collapsed": true
   },
   "outputs": [],
   "source": []
  }
 ],
 "metadata": {
  "kernelspec": {
   "display_name": "Python 2",
   "language": "python",
   "name": "python2"
  },
  "language_info": {
   "codemirror_mode": {
    "name": "ipython",
    "version": 2
   },
   "file_extension": ".py",
   "mimetype": "text/x-python",
   "name": "python",
   "nbconvert_exporter": "python",
   "pygments_lexer": "ipython2",
   "version": "2.7.13"
  }
 },
 "nbformat": 4,
 "nbformat_minor": 2
}
