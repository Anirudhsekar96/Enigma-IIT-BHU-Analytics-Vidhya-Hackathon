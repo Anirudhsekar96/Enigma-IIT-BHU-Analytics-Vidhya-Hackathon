{
 "cells": [
  {
   "cell_type": "code",
   "execution_count": 1,
   "metadata": {
    "collapsed": true
   },
   "outputs": [],
   "source": [
    "import pandas as pd\n",
    "import numpy as np\n",
    "\n",
    "import time\n",
    "from sklearn.ensemble import RandomForestClassifier\n",
    "from sklearn.metrics import mean_absolute_error,accuracy_score,f1_score\n",
    "from sklearn.model_selection import cross_val_predict,cross_val_score\n",
    "from sklearn.metrics import mean_squared_error,log_loss\n",
    "from sklearn.multiclass import OneVsRestClassifier\n",
    "from sklearn.neighbors import KNeighborsClassifier"
   ]
  },
  {
   "cell_type": "code",
   "execution_count": 2,
   "metadata": {
    "collapsed": true
   },
   "outputs": [],
   "source": [
    "df_user_data_train = pd.read_csv(\"train/user_data.csv\")\n",
    "df_train_submission = pd.read_csv(\"train/train_submissions.csv\")\n",
    "df_problem_data_train = pd.read_csv(\"train/problem_data.csv\")\n",
    "df_sample_sub = pd.read_csv(\"sample_submissions_wbscxqU.csv\")\n",
    "df_test_sub = pd.read_csv(\"test_submissions_NeDLEvX.csv\")"
   ]
  },
  {
   "cell_type": "code",
   "execution_count": 3,
   "metadata": {},
   "outputs": [],
   "source": [
    "df_problem_data_train.drop(['tags'],axis=1,inplace=True)\n",
    "df_problem_data_train.points.fillna(0,inplace=True)\n",
    "df_problem_data_train.level_type.fillna('N',inplace=True)\n",
    "df_user_data_train.country.fillna('Missing',inplace=True)\n",
    "\n",
    "def postive_only(x):\n",
    "    if(x<0):\n",
    "        return(-1*x)\n",
    "    else:\n",
    "        return(x)\n",
    "    \n",
    "df_user_data_train['submission_count']=df_user_data_train['submission_count'].map(lambda x: postive_only(x))\n",
    "df_user_data_train['problem_solved']=df_user_data_train['problem_solved'].map(lambda x: postive_only(x))\n",
    "df_user_data_train['contribution']=df_user_data_train['contribution'].map(lambda x: postive_only(x))\n",
    "df_user_data_train['follower_count']=df_user_data_train['follower_count'].map(lambda x: postive_only(x))\n",
    "df_user_data_train['last_online_time_seconds']=df_user_data_train['last_online_time_seconds'].map(lambda x: postive_only(x))\n",
    "df_user_data_train['max_rating']=df_user_data_train['max_rating'].map(lambda x: postive_only(x))\n",
    "df_user_data_train['registration_time_seconds']=df_user_data_train['registration_time_seconds'].map(lambda x: postive_only(x))\n",
    "\n",
    "#from sklearn.preprocessing import LabelEncoder\n",
    "#lb = LabelEncoder()\n",
    "#df_user_data_train['country'] = lb.fit_transform(df_user_data_train['country'])\n",
    "#df_user_data_train['rank'] = lb.fit_transform(df_user_data_train['rank'])\n",
    "#df_problem_data_train['level_type'] = lb.fit_transform(df_problem_data_train['level_type'])\n",
    "\n",
    "#df_problem_data_train = pd.get_dummies(df_problem_data_train,columns=['level_type'])\n",
    "#df_user_data_train = pd.get_dummies(df_user_data_train,columns=['country','rank'])\n"
   ]
  },
  {
   "cell_type": "code",
   "execution_count": 4,
   "metadata": {},
   "outputs": [
    {
     "data": {
      "text/html": [
       "<div>\n",
       "<style>\n",
       "    .dataframe thead tr:only-child th {\n",
       "        text-align: right;\n",
       "    }\n",
       "\n",
       "    .dataframe thead th {\n",
       "        text-align: left;\n",
       "    }\n",
       "\n",
       "    .dataframe tbody tr th {\n",
       "        vertical-align: top;\n",
       "    }\n",
       "</style>\n",
       "<table border=\"1\" class=\"dataframe\">\n",
       "  <thead>\n",
       "    <tr style=\"text-align: right;\">\n",
       "      <th></th>\n",
       "      <th>user_id</th>\n",
       "      <th>submission_count</th>\n",
       "      <th>problem_solved</th>\n",
       "      <th>contribution</th>\n",
       "      <th>country</th>\n",
       "      <th>follower_count</th>\n",
       "      <th>last_online_time_seconds</th>\n",
       "      <th>max_rating</th>\n",
       "      <th>rating</th>\n",
       "      <th>rank</th>\n",
       "      <th>registration_time_seconds</th>\n",
       "    </tr>\n",
       "  </thead>\n",
       "  <tbody>\n",
       "    <tr>\n",
       "      <th>0</th>\n",
       "      <td>user_3311</td>\n",
       "      <td>47</td>\n",
       "      <td>40</td>\n",
       "      <td>0</td>\n",
       "      <td>Missing</td>\n",
       "      <td>4</td>\n",
       "      <td>1504111645</td>\n",
       "      <td>348.337</td>\n",
       "      <td>330.849</td>\n",
       "      <td>intermediate</td>\n",
       "      <td>1466686436</td>\n",
       "    </tr>\n",
       "    <tr>\n",
       "      <th>1</th>\n",
       "      <td>user_3028</td>\n",
       "      <td>63</td>\n",
       "      <td>52</td>\n",
       "      <td>0</td>\n",
       "      <td>India</td>\n",
       "      <td>17</td>\n",
       "      <td>1498998165</td>\n",
       "      <td>405.677</td>\n",
       "      <td>339.450</td>\n",
       "      <td>intermediate</td>\n",
       "      <td>1441893325</td>\n",
       "    </tr>\n",
       "    <tr>\n",
       "      <th>2</th>\n",
       "      <td>user_2268</td>\n",
       "      <td>226</td>\n",
       "      <td>203</td>\n",
       "      <td>8</td>\n",
       "      <td>Egypt</td>\n",
       "      <td>24</td>\n",
       "      <td>1505566052</td>\n",
       "      <td>307.339</td>\n",
       "      <td>284.404</td>\n",
       "      <td>beginner</td>\n",
       "      <td>1454267603</td>\n",
       "    </tr>\n",
       "    <tr>\n",
       "      <th>3</th>\n",
       "      <td>user_480</td>\n",
       "      <td>611</td>\n",
       "      <td>490</td>\n",
       "      <td>1</td>\n",
       "      <td>Ukraine</td>\n",
       "      <td>94</td>\n",
       "      <td>1505257499</td>\n",
       "      <td>525.803</td>\n",
       "      <td>471.330</td>\n",
       "      <td>advanced</td>\n",
       "      <td>1350720417</td>\n",
       "    </tr>\n",
       "    <tr>\n",
       "      <th>4</th>\n",
       "      <td>user_650</td>\n",
       "      <td>504</td>\n",
       "      <td>479</td>\n",
       "      <td>12</td>\n",
       "      <td>Russia</td>\n",
       "      <td>4</td>\n",
       "      <td>1496613433</td>\n",
       "      <td>548.739</td>\n",
       "      <td>486.525</td>\n",
       "      <td>advanced</td>\n",
       "      <td>1395560498</td>\n",
       "    </tr>\n",
       "  </tbody>\n",
       "</table>\n",
       "</div>"
      ],
      "text/plain": [
       "     user_id  submission_count  problem_solved  contribution  country  \\\n",
       "0  user_3311                47              40             0  Missing   \n",
       "1  user_3028                63              52             0    India   \n",
       "2  user_2268               226             203             8    Egypt   \n",
       "3   user_480               611             490             1  Ukraine   \n",
       "4   user_650               504             479            12   Russia   \n",
       "\n",
       "   follower_count  last_online_time_seconds  max_rating   rating  \\\n",
       "0               4                1504111645     348.337  330.849   \n",
       "1              17                1498998165     405.677  339.450   \n",
       "2              24                1505566052     307.339  284.404   \n",
       "3              94                1505257499     525.803  471.330   \n",
       "4               4                1496613433     548.739  486.525   \n",
       "\n",
       "           rank  registration_time_seconds  \n",
       "0  intermediate                 1466686436  \n",
       "1  intermediate                 1441893325  \n",
       "2      beginner                 1454267603  \n",
       "3      advanced                 1350720417  \n",
       "4      advanced                 1395560498  "
      ]
     },
     "execution_count": 4,
     "metadata": {},
     "output_type": "execute_result"
    }
   ],
   "source": [
    "df_user_data_train.head()"
   ]
  },
  {
   "cell_type": "code",
   "execution_count": 5,
   "metadata": {},
   "outputs": [
    {
     "name": "stdout",
     "output_type": "stream",
     "text": [
      "<class 'pandas.core.frame.DataFrame'>\n",
      "RangeIndex: 3571 entries, 0 to 3570\n",
      "Data columns (total 11 columns):\n",
      "user_id                      3571 non-null object\n",
      "submission_count             3571 non-null int64\n",
      "problem_solved               3571 non-null int64\n",
      "contribution                 3571 non-null int64\n",
      "country                      3571 non-null object\n",
      "follower_count               3571 non-null int64\n",
      "last_online_time_seconds     3571 non-null int64\n",
      "max_rating                   3571 non-null float64\n",
      "rating                       3571 non-null float64\n",
      "rank                         3571 non-null object\n",
      "registration_time_seconds    3571 non-null int64\n",
      "dtypes: float64(2), int64(6), object(3)\n",
      "memory usage: 307.0+ KB\n"
     ]
    }
   ],
   "source": [
    "df_user_data_train.info()"
   ]
  },
  {
   "cell_type": "code",
   "execution_count": null,
   "metadata": {},
   "outputs": [],
   "source": [
    "df_user_data_train['problem_sub_ratio'] = df_user_data_train['problem_solved'] / df_user_data_train['submission_count']\n",
    "\n",
    "df_user_data_train['last_online_time_seconds'] = df_user_data_train.last_online_time_seconds.max() - df_user_data_train['last_online_time_seconds']\n",
    "df_user_data_train['last_online_time_minutes'] = df_user_data_train['last_online_time_seconds'] / 60\n",
    "df_user_data_train['last_online_time_hours'] = df_user_data_train['last_online_time_seconds'] / (60*60)\n",
    "df_user_data_train['last_online_time_days'] = df_user_data_train['last_online_time_seconds'] / (60*60*24)\n",
    "df_user_data_train['last_online_time_months'] = df_user_data_train['last_online_time_seconds'] / (60*60*24*30)\n",
    "df_user_data_train['last_online_time_years'] = df_user_data_train['last_online_time_seconds'] / (60*60*24*365)\n",
    "\n",
    "df_user_data_train['registration_time_seconds'] = df_user_data_train.registration_time_seconds.max() - df_user_data_train['registration_time_seconds']\n",
    "df_user_data_train['registration_time_minutes'] = df_user_data_train['registration_time_seconds'] / 60\n",
    "df_user_data_train['registration_time_hours'] = df_user_data_train['registration_time_seconds'] / (60*60)\n",
    "df_user_data_train['registration_time_days'] = df_user_data_train['registration_time_seconds'] / (60*60*24)\n",
    "df_user_data_train['registration_time_months'] = df_user_data_train['registration_time_seconds'] / (60*60*24*30)\n",
    "df_user_data_train['registration_time_years'] = df_user_data_train['registration_time_seconds'] / (60*60*24*365)\n",
    "\n",
    "df_user_data_train['last_vs_reg_time_ratio'] = df_user_data_train['last_online_time_seconds']/df_user_data_train['registration_time_seconds']\n",
    "\n",
    "df_user_data_train['max_rating_current_ratio'] = df_user_data_train['max_rating']/ df_user_data_train['rating']\n",
    "df_user_data_train['current_rating_per_registration_time'] = df_user_data_train['rating']/df_user_data_train['registration_time_years']\n",
    "df_user_data_train['Rank_vs_Follower'] = df_user_data_train['rank']/df_user_data_train['folower_count']\n",
    "df_user_data_train['Rank_mul_Follower'] = df_user_data_train['rank'] * df_user_data_train['folower_count']\n",
    "df_user_data_train['follower_vs_Contribution'] = df_user_data_train['follower_count']/df_user_data_train['contribution']\n",
    "\n",
    "\n"
   ]
  },
  {
   "cell_type": "code",
   "execution_count": null,
   "metadata": {},
   "outputs": [],
   "source": [
    "df_user_data_train.head()"
   ]
  },
  {
   "cell_type": "code",
   "execution_count": null,
   "metadata": {
    "collapsed": true
   },
   "outputs": [],
   "source": [
    "df_train  = pd.merge(df_train_submission,df_user_data_train, how='left', on='user_id')\n",
    "df_train = pd.merge(df_train,df_problem_data_train,how='left',on='problem_id')\n",
    "\n",
    "df_test  = pd.merge(df_test_sub,df_user_data_train, how='left', on='user_id')\n",
    "df_test = pd.merge(df_test,df_problem_data_train,how='left',on='problem_id')\n",
    "\n",
    "X = df_train.drop(['attempts_range','user_id','problem_id'],axis=1).values\n",
    "y = df_train.attempts_range.values\n",
    "\n",
    "X_test = df_test.drop(['ID','user_id','problem_id'],axis=1).values"
   ]
  },
  {
   "cell_type": "code",
   "execution_count": null,
   "metadata": {
    "collapsed": true
   },
   "outputs": [],
   "source": [
    "clf_RF = RandomForestClassifier()\n",
    "clf_RF.fit(X,y)\n",
    "y_pred = clf_RF.predict(X_test)"
   ]
  },
  {
   "cell_type": "code",
   "execution_count": null,
   "metadata": {
    "collapsed": true
   },
   "outputs": [],
   "source": [
    "df_sample_sub['ID'] = df_test.ID\n",
    "df_sample_sub['attempts_range'] = y_pred\n",
    "df_sample_sub.to_csv(\"RF_with_BasicFE.csv\",index=False)"
   ]
  },
  {
   "cell_type": "code",
   "execution_count": null,
   "metadata": {},
   "outputs": [],
   "source": []
  },
  {
   "cell_type": "code",
   "execution_count": null,
   "metadata": {
    "collapsed": true
   },
   "outputs": [],
   "source": []
  }
 ],
 "metadata": {
  "kernelspec": {
   "display_name": "Python 2",
   "language": "python",
   "name": "python2"
  },
  "language_info": {
   "codemirror_mode": {
    "name": "ipython",
    "version": 2
   },
   "file_extension": ".py",
   "mimetype": "text/x-python",
   "name": "python",
   "nbconvert_exporter": "python",
   "pygments_lexer": "ipython2",
   "version": "2.7.13"
  }
 },
 "nbformat": 4,
 "nbformat_minor": 2
}
